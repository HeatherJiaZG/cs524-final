{
 "cells": [
  {
   "cell_type": "markdown",
   "metadata": {
    "toc": true
   },
   "source": [
    "### CS/ECE/ISyE 524 &mdash; Introduction to Optimization &mdash; Spring 2020 ###\n",
    "\n",
    "# 2 Days in Chicago – A Weekend in Chicago Itinerary You'll Love\n",
    "\n",
    "#### Luke VandenHeuvel, Bijan Tabatabai, and Heather Jia\n",
    "\n",
    "\n",
    "*****\n",
    "\n",
    "<h3>Table of Contents<span class=\"tocSkip\"></span></h3>\n",
    "<div class=\"toc\"><ul class=\"toc-item\"><li><span>\n",
    "    <a href=\"#1.-Introduction\" data-toc-modified-id=\"1.-Introduction-1\">1. Introduction</a></span></li><li><span>\n",
    "    <a href=\"#2.-Mathematical-Model\" data-toc-modified-id=\"2.-Mathematical-Model-2\">2. Mathematical Model</a></span><ul class=\"toc-item\"><li><span>\n",
    "    <a href=\"#2.1.-Modeling-Assumptions\" data-toc-modified-id=\"2.1.-Modeling-Assumptions-2.1\">2.1. Modeling Assumptions</a></span></li><li><span>\n",
    "    <a href=\"#2.2.-Decision-Variables\" data-toc-modified-id=\"2.2.-Decision-Variables-2.2\">2.2. Decision Variables</a></span></li><li><span>\n",
    "    <a href=\"#2.3.-Constraints\" data-toc-modified-id=\"2.3.-Constraints-2.3\">2.3. Constraints</a></span><ul class=\"toc-item\"><li><span>\n",
    "    <a href=\"#2.3.1.-Group-Size-Constraint\" data-toc-modified-id=\"2.3.1.-Group-Size-Constraint-2.3.1\">2.3.1. Group Size Constraint</a></span></li><li><span>\n",
    "    <a href=\"#2.3.2.-Student-Choice-Constraint\" data-toc-modified-id=\"2.3.2.-Student-Choice-Constraint-2.3.2\">2.3.2. Student Choice Constraint</a></span></li><li><span>\n",
    "    <a href=\"#2.3.3.-Proposal-Writer-Constraint\" data-toc-modified-id=\"2.3.3.-Proposal-Writer-Constraint-2.3.3\">2.3.3. Proposal Writer Constraint</a></span></li></ul></li><li><span>\n",
    "    <a href=\"#2.4.-Objective-Function\" data-toc-modified-id=\"2.4.-Objective-Function-2.4\">2.4. Objective Function</a></span><ul class=\"toc-item\"><li><span>\n",
    "    <a href=\"#2.4.1.-Experience-Equality\" data-toc-modified-id=\"2.4.1.-Experience-Equality-2.4.1\">2.4.1. Experience Equality</a></span></li><li><span>\n",
    "    <a href=\"#2.4.2.-Experience-Equality-(Linear-Relaxation)\" data-toc-modified-id=\"2.4.2.-Experience-Equality-(Linear-Relaxation)-2.4.2\">2.4.2. Experience Equality (Linear Relaxation)</a></span></li><li><span>\n",
    "    <a href=\"#2.4.3.-Student-Happiness\" data-toc-modified-id=\"2.4.3.-Student-Happiness-2.4.3\">2.4.3. Student Happiness</a></span></li><li><span>\n",
    "    <a href=\"#2.4.4.-Combination\" data-toc-modified-id=\"2.4.4.-Combination-2.4.4\">2.4.4. Combination</a></span></li></ul></li><li><span>\n",
    "    <a href=\"#2.5.-Standard-Forms\" data-toc-modified-id=\"2.5.-Standard-Forms-2.5\">2.5. Standard Forms</a></span><ul class=\"toc-item\"><li><span>\n",
    "    <a href=\"#4.-Results-and-discussion\" data-toc-modified-id=\"4.-Results-and-discussion-4\">4. Results and discussion</a></span><ul class=\"toc-item\"><li><span>\n",
    "    <a href=\"#4.1-Solution-Visualization\" data-toc-modified-id=\"4.1-Solution-Visualization-4.1\">4.1 Solution Visualization</a></span><ul class=\"toc-item\"><li><span>\n",
    "    <a href=\"#4.1.1.-Table-Visualization\" data-toc-modified-id=\"4.1.1.-Table-Visualization-4.1.1\">4.1.1. Table Visualization</a></span></li><li><span>\n",
    "    <a href=\"4.1.2.-#Graph-Visualization\" data-toc-modified-id=\"4.1.2.-#Graph-Visualization-4.1.2\">4.1.2. Graph Visualization</a></span></li></ul></li><li><span>\n",
    "    <a href=\"#4.3-Trade-off-Analysis\" data-toc-modified-id=\"4.3-Trade-off-Analysis-4.3\">4.3 Trade-off Analysis</a></span></li></ul></li><li><span>\n",
    "    <a href=\"#5.-Conclusion\" data-toc-modified-id=\"5.-Conclusion-5\">5. Conclusion</a></span></li><li><span>\n",
    "    <a href=\"#6.-Appendix\" data-toc-modified-id=\"6.-Appendix-6\">6. Appendix</a></span><ul class=\"toc-item\"><li><span>\n",
    "    <a href=\"#6.1-Data-generation\" data-toc-modified-id=\"6.1-Data-generation-6.1\">6.1 Data generation</a></span></li></ul></li></ul></div>"
   ]
  },
  {
   "cell_type": "markdown",
   "metadata": {
    "collapsed": true
   },
   "source": [
    "## 1. Introduction\n",
    "\n",
    "In this project, we will use optimization techniques to find the best weekend itinerary for a group of tourists traveling to Chicago, which maximizes the tourists happiness and minimizes the total cost of the trip, based on tourists' survey data.\n",
    "\n",
    "We are assuming that there is a group that is travelling to Chicago for a 3-day weekend and would like to have the most enjoyable weekend possible. We will help the group decide how to best spend their time and money so that everyone achieves as much entertainment on the trip as they can. Each person in the group will rank a list of popular activities in the corresponding order of which they most want to do and we will use that information to help them create a schedule.\n",
    "\n",
    "<p>\n",
    "    <img src=\"https://i.imgur.com/QcOMtdQ.jpg\" width=300>\n",
    "    <center><em>Popular Activities and Restaurants in Chicago</em></center>\n",
    "</p>\n",
    "\n"
   ]
  },
  {
   "cell_type": "markdown",
   "metadata": {
    "collapsed": true
   },
   "source": [
    "## 2. Mathematical Model ##\n",
    "\n",
    "In this section, we will discuss how to transfer the constraints and objectives into mathematical form. For the sake of convenience, we define $\\mathcal{I}$ as the set containing all hours in this weekend, $\\mathcal{J}$ as the set of all activities selected for the tour, and $\\mathcal{K}$ as the set of all tourists in the group. "
   ]
  },
  {
   "cell_type": "markdown",
   "metadata": {
    "collapsed": true
   },
   "source": [
    "### 2.1. Modeling Assumptions\n",
    "\n",
    "- The decision variables will account for each of the 62 hours in the 3-day weekend (8am Friday through 10pm Sunday). \n",
    "- Each hour will be a plan for what the group should do in that given hour. \n",
    "- Constraints will be far greater as we will limit when the group should be at the hotel to sleep, when they need to eat lunch and dinner, and the amount of money they have to spend on travel and the activities, as well as how long each activity can be done for."
   ]
  },
  {
   "cell_type": "markdown",
   "metadata": {},
   "source": [
    "### 2.2. Parameters\n",
    "\n",
    "- The each group member's enjoyment of each activity is obtained from a survey collected from all tourists in thegroup. $e_{k,j}$ is the enjoyment group member $k$ gets from doing activity $j$. \n",
    "- The average cost of each activity per person is collected in a list $C$, where $C_j$ is the cost of activity $j$ for a single person. We here consider the case of one-time purchase for all activities.\n",
    "- The number of tourists in the group is $c$.\n",
    "- The papameter $budget$ can be manually set by the organizer of the trip. By default, $budget=1200$。\n",
    "- The minimum enjoyment for each tourists, $E_{min}$, can be manually set by the organizer of the trip. By default, $E_{min}=10$.\n",
    "- The open hours of each activity is stored in $O$, where $O_{i,j}$ is 1 when activity $j$ is closed at hour $i$, and 0 when it is open.\n",
    "- Let $S$ be a vector where $S_i$ is 1 when the group should be in the hotel at hour $i$ and 0 otherwise.\n",
    "- Let $H$ be the set of hotels. \n",
    "- Let $H_time$ be tht total number of hours the group should stay at the hotel.\n",
    "- Let $L$ be a vector where $L_i$ is 1 when hour $i$ is when they will to eat lunch and 0 otherwise.\n",
    "- Let $F$ be the set of places to get food.\n",
    "- Let $NumberLunches$ be the total number of lunches in the weekend trip. By default, $NumberLunches=2$.\n",
    "- Let $D$ be a vector where $D_i$ is 1 when hour $i$ is when they will to eat lunch and 0.\n",
    "- Let $NumberDinners$ be the total number of dinners in the weekend trip. By default, $NumberDinners=3$."
   ]
  },
  {
   "cell_type": "markdown",
   "metadata": {
    "collapsed": true
   },
   "source": [
    "### 2.3. Decision Variables\n",
    "\n",
    "- The decision variable will be a matrix $X$ where its element $X_{i,j}$ represents whether or not the group is doing activity j at hour i of their trip. \n",
    "- There will also be a vector of decision variables $Z$, where $Z_j$ is 1 the group does activity j sometime one the trip, and 0 otherwise."
   ]
  },
  {
   "cell_type": "markdown",
   "metadata": {
    "collapsed": true
   },
   "source": [
    "### 2.4. Constraints\n",
    "\n",
    "#### 2.4.1. Total Cost Constraint\n",
    "\n",
    "The total cost of the trip can not be larger than a specified amount. \n",
    "$$\n",
    " 0 \\leq \\quad \\sum_{j=1}^{\\Vert \\mathcal{J} \\Vert}z_jC_{j}c\\geq budget\n",
    "$$"
   ]
  },
  {
   "cell_type": "markdown",
   "metadata": {
    "collapsed": true
   },
   "source": [
    "<a id='constraints'></a>\n",
    "#### 2.4.2. Minimum Enjoyment Constraint\n",
    "\n",
    "The amount of total enjoyment from can’t be lower than a specified amount for each tourist.\n",
    "    \n",
    "$$\\forall k \\in \\mathcal{K}, \\quad \\sum_{i=1}^{\\Vert \\mathcal{I} \\Vert}\\sum_{j=1}^{\\Vert \\mathcal{J} \\Vert}e_{i,j}X_{i,j}\\geq E_{min}$$\n"
   ]
  },
  {
   "cell_type": "markdown",
   "metadata": {
    "collapsed": true
   },
   "source": [
    "#### 2.4.3. Activity Availability Constraint\n",
    "The group can only do an activity if that activity is open. \n",
    "$$\n",
    "\\forall j \\in \\mathcal{J}, \\quad \\sum_{i=1}^{\\Vert \\mathcal{I} \\Vert}S_{i}X_{i,j}=H\\_time\n",
    "$$"
   ]
  },
  {
   "cell_type": "markdown",
   "metadata": {},
   "source": [
    "#### 2.4.4. Rest Time Constraint\n",
    "\n",
    "The group will be at the hotel for some time every night. \n",
    "$$\n",
    "\\quad \\sum_{i=1}^{\\Vert \\mathcal{I} \\Vert}O_{i,j}X_{i,j}=0\n",
    "$$"
   ]
  },
  {
   "cell_type": "markdown",
   "metadata": {},
   "source": [
    "#### 2.4.5. One Hotel Constraint\n",
    "\n",
    "The group will only stay in one hotel during their trip,\n",
    "$$\\quad \\sum_{h=1}^{\\Vert \\mathcal{H} \\Vert}z_{h}=1$$"
   ]
  },
  {
   "cell_type": "markdown",
   "metadata": {},
   "source": [
    "#### 2.4.6. Lunch Time Constraint\n",
    "The group must eat lunch each day,\n",
    "$$\\forall k \\in \\mathcal{K}, \\quad \\sum_{i=1}^{\\Vert \\mathcal{I} \\Vert}\\sum_{f=1}^{\\Vert \\mathcal{F} \\Vert}L_{i}X_{i,j} = TimeAtLunch*NumberLunches$$"
   ]
  },
  {
   "cell_type": "markdown",
   "metadata": {},
   "source": [
    "#### 2.4.7. Dinner Time Constraint\n",
    "The group must eat dinner each day,\n",
    "$$\\forall k \\in \\mathcal{K}, \\quad \\sum_{i=1}^{\\Vert \\mathcal{I} \\Vert}\\sum_{d=1}^{\\Vert \\mathcal{D} \\Vert}D_{i}X_{i,j} = TimeAtDinner*NumberDinners$$"
   ]
  },
  {
   "cell_type": "markdown",
   "metadata": {},
   "source": [
    "#### 2.4.8. No Repetition Constraint\n",
    "The group will not go to an activity more than once in their trip,\n"
   ]
  },
  {
   "cell_type": "markdown",
   "metadata": {},
   "source": [
    "### 2.5. Objective Function\n",
    "\n"
   ]
  },
  {
   "cell_type": "markdown",
   "metadata": {},
   "source": [
    "#### 2.5.1. Tourist Enjoyment\n"
   ]
  },
  {
   "cell_type": "markdown",
   "metadata": {},
   "source": [
    "<a id='happiness'></a>\n",
    "#### 2.5.2. Total Cost\n",
    "\n"
   ]
  },
  {
   "cell_type": "markdown",
   "metadata": {},
   "source": [
    "#### 2.5.3. Combination of Tourist Enjoyment and Total Cost\n"
   ]
  },
  {
   "cell_type": "markdown",
   "metadata": {},
   "source": [
    "### 2.6. Standard Forms\n"
   ]
  },
  {
   "cell_type": "markdown",
   "metadata": {
    "collapsed": true
   },
   "source": [
    "## 3. Solution ##\n"
   ]
  },
  {
   "cell_type": "markdown",
   "metadata": {},
   "source": [
    "### 3.1. Model with only considering the enjoyment of tourists\n",
    "\n"
   ]
  },
  {
   "cell_type": "markdown",
   "metadata": {},
   "source": [
    "### 3.2. Model with only considering the total cost of the trip\n",
    "\n"
   ]
  },
  {
   "cell_type": "markdown",
   "metadata": {},
   "source": [
    "### 3.3. Combination of tourist enjoyment and total cost"
   ]
  },
  {
   "cell_type": "markdown",
   "metadata": {
    "collapsed": true
   },
   "source": [
    "## 4. Results and discussion ##\n",
    "\n",
    "After getting the results of our model, we can analyze the model and solutions from different perspectives to gain more domain insights."
   ]
  },
  {
   "cell_type": "markdown",
   "metadata": {},
   "source": [
    "### 4.1 Solution Visualization\n",
    "\n",
    "\n",
    "\n",
    "#### 4.1.1. Table Visualization\n",
    "\n",
    "We can try to use a table view to tell the organizer how to plan the trip."
   ]
  },
  {
   "cell_type": "markdown",
   "metadata": {},
   "source": [
    "Using the table above, the organizer can easily specify which activity to do at each hour.\n",
    "\n",
    "#### 4.1.2. Graph Visualization\n",
    "\n",
    "We also can try to design a graph visualization to show the trip itinerary.\n",
    "<a><img src=\"https://i.imgur.com/\" width=200></a>"
   ]
  },
  {
   "cell_type": "markdown",
   "metadata": {},
   "source": [
    "### 4.2 Trade-off Analysis\n"
   ]
  },
  {
   "cell_type": "markdown",
   "metadata": {
    "collapsed": true
   },
   "source": [
    "## 5. Conclusion\n",
    "\n"
   ]
  },
  {
   "cell_type": "markdown",
   "metadata": {},
   "source": [
    "\n",
    "## 6. Appendix\n",
    "\n",
    "### 6.1 Data generation\n",
    "\n"
   ]
  }
 ],
 "metadata": {
  "kernelspec": {
   "display_name": "Julia 1.4.1",
   "language": "julia",
   "name": "julia-1.4"
  },
  "language_info": {
   "file_extension": ".jl",
   "mimetype": "application/julia",
   "name": "julia",
   "version": "1.4.1"
  },
  "toc": {
   "nav_menu": {},
   "number_sections": false,
   "sideBar": true,
   "skip_h1_title": true,
   "title_cell": "Table of Contents",
   "title_sidebar": "Contents",
   "toc_cell": true,
   "toc_position": {},
   "toc_section_display": true,
   "toc_window_display": false
  }
 },
 "nbformat": 4,
 "nbformat_minor": 1
}
