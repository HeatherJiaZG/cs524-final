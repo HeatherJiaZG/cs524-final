{
 "cells": [
  {
   "cell_type": "markdown",
   "metadata": {},
   "source": [
    "### CS 524 &mdash; Introduction to Optimization &mdash; Spring 2022 ###\n",
    "\n",
    "# Orientation Planner for UW-Madison Students\n",
    "\n",
    "####  Grant Kirner, Heather Jia,  Sabeeka Khan\n",
    "\n",
    "\n"
   ]
  },
  {
   "cell_type": "markdown",
   "metadata": {},
   "source": [
    "## 1. Introduction ##\n",
    "\n",
    "Orientation for colleges is a first step for many students to get accustomed to their campus and peers. There is a lot of planning that goes behind a multi-day orientation such as food, events, and number of workers needed. To assist in planning an orientation at UW-Madison, our optimization problem will try to propose a schedule over a two-day weekend to maximize prospective student satisfaction, while minimizing the total number of workers needed for the orientation.  \n",
    "\n",
    "We measure the cost of an event by the number of workers needed times payrate for the event. The format of the event files and the rating survey is descibed in this report. The organizer can also change the weight of the total satisfaction and the cost of the trip. By running our code, the organizer will get a schedule of the orientation including what event to do at each hour and a summary of the cost. We will analyze the tradeoffs between satisfaction of students and total cost of the orientation. This will involve changing the objective function or implementing a lambda value with the combined objective function.\n",
    "\n",
    "<p>\n",
    "    <center><img src=\"https://i.imgur.com/nktMcmQ.jpeg\" width=400></center>\n",
    "    <center><em>UW-Madison Student Orientation</em></center>\n",
    "</p>"
   ]
  },
  {
   "cell_type": "markdown",
   "metadata": {},
   "source": [
    "## 2. Mathematical Model ##\n",
    "\n",
    "In this section, we will discuss how to transfer the constraints and objectives into mathematical form. For the sake of convenience, we define $\\mathcal{I}$ as the set containing all hours in this weekend, $\\mathcal{J}$ as the set of all events selected for the orientation, and $\\mathcal{K}$ as the set of all students attending the orientation weekend. "
   ]
  },
  {
   "cell_type": "markdown",
   "metadata": {},
   "source": [
    "### 2.1. Modeling Assumptions\n",
    "\n",
    "- The decision variables will account for each of the 20 hours in the 2-day weekend. \n",
    "- The model will produce event arrangments from 8am to 6pm Saturday through Sunday including lunches.\n",
    "- Each hour will be a plan for what the students should do in that given hour. \n",
    "- We measure the cost of the events by the number of workers needed times pay rate instead of a monetary value.\n",
    "- Each event has a corresponding number of workers needed"
   ]
  },
  {
   "cell_type": "markdown",
   "metadata": {},
   "source": [
    "### 2.2. Parameters\n",
    "\n",
    "- The each student's satisfaction of each event is obtained from a survey collected from all students in the group. $s_{k,j}$ is the satisfaction group member $k$ gets from doing activity $j$. The higher the number is, the more the students will like the event.\n",
    "- The number of workers required for each activity is collected in a list $W$, where $W_j$ is the number of workers required for event $j$\n",
    "- Total number of students in the group is $num\\_s$. By default, $num\\_s=10$. This parameter can be manually changed by the orientation organizer.\n",
    "- The papameter $total\\_workers$ is the maximum number of workers that are available for the orientation. By default, $total\\_workers=200$.\n",
    "- The minimum satisfaction for each student, $S_{min}$, can be manually set by the organizer of the orientation weekend. \n",
    "- Specific times that each event can be held at is stored in $O$, where $O_{i,j}$ is 0 when activity $j$ is available to be held at hour $i$, and 1 otherwise.\n",
    "- Let $S$ be a vector where $S_i$ is 1 when the students are free and no events are organized at hour $i$, and 0 otherwise.\n",
    "- Let $H\\_time$ be the total number of hours the students are free and no events are organized.\n",
    "- Let $L$ be a vector where $L_i$ is 1 when hour $i$ is when they will eat lunch and 0 otherwise. These times are 12pm and 1pm Saturday and Sunday, can be manually set by the organizer.\n",
    "- Let $F$ be the set of places to get food. The data can be found in the data collection section.\n",
    "- Let $NumberLunches$ be the total number of lunches in the weekend trip. By default, $NumberLunches=2$.\n"
   ]
  },
  {
   "cell_type": "markdown",
   "metadata": {},
   "source": [
    "### 2.3. Decision Variables\n",
    "\n",
    "- The decision variable will be a matrix $X$ where its element $X_{i,j}$ represents whether or not event j will be held at hour i. \n",
    "- Another decision variable wil be $Z$, where $Z_j$ is 1 if event j is held sometime during the orientation weekend, and 0 otherwise."
   ]
  },
  {
   "cell_type": "markdown",
   "metadata": {},
   "source": [
    "### 2.4. Constraints\n",
    "\n",
    "#### 2.4.1. Total Cost Constraint\n",
    "\n",
    "The total number of workers required can not be larger than maximum number of workers that are available for the orientation. \n",
    "$$\n",
    " 0 \\leq \\quad \\sum_{j=1}^{\\Vert \\mathcal{J} \\Vert}z_jW_{j}\\leq total\\_workers\n",
    "$$"
   ]
  },
  {
   "cell_type": "markdown",
   "metadata": {},
   "source": [
    "<a id='constraints'></a>\n",
    "#### 2.4.2. Minimum Satisfaction Constraint\n",
    "\n",
    "The amount of total satisfaction can’t be lower than a specified amount for each student.\n",
    "    \n",
    "$$\\forall k \\in \\mathcal{K}, \\quad \\sum_{i=1}^{\\Vert \\mathcal{I} \\Vert}\\sum_{j=1}^{\\Vert \\mathcal{J} \\Vert}s_{i,j}S_{i,j}\\geq S_{min}$$\n",
    "\n"
   ]
  },
  {
   "cell_type": "markdown",
   "metadata": {},
   "source": [
    "#### 2.4.3. Lunch Time Constraint\n",
    "The group must eat lunch each day,\n",
    "$$\\forall k \\in \\mathcal{K}, \\quad \\sum_{i=1}^{\\Vert \\mathcal{I} \\Vert}\\sum_{f=1}^{\\Vert \\mathcal{F} \\Vert}L_{i}X_{i,j} = TimeAtLunch*NumberLunches$$"
   ]
  },
  {
   "cell_type": "markdown",
   "metadata": {},
   "source": [
    "#### 2.4.4. Rest Time Constraint\n",
    "\n",
    "The students will be free during this time. \n",
    "$$\n",
    "\\forall j \\in H, \\quad \\sum_{i=1}^{\\Vert \\mathcal{I} \\Vert}S_{i}X_{i,j}=H\\_time\n",
    "$$"
   ]
  },
  {
   "cell_type": "markdown",
   "metadata": {},
   "source": [
    "<a id='constraints'></a>\n",
    "#### 2.4.5. Event Availability Constraint\n",
    "\n",
    "The students can only do an event if that event is available at a specific time.\n",
    "    \n",
    "$$\n",
    "\\quad \\sum_{i=1}^{\\Vert \\mathcal{I} \\Vert}O_{i,j}X_{i,j}=0\n",
    "$$"
   ]
  },
  {
   "cell_type": "markdown",
   "metadata": {},
   "source": [
    "<a id='constraints'></a>\n",
    "#### 2.4.6. No Repetition in Event Arrangement\n",
    "\n",
    "The students will not have an event more than once in the weekend.\n",
    "\n",
    "$$\n",
    "\\forall \\; 1 < i \\leq \\Vert \\mathcal{I}\\Vert \\; j \\notin H, \\lambda_{i,j}=|X_{i,j} - X_{i-1,j}|\\\\\n",
    "\\forall j \\notin H, \\lambda_{1,j}=X_{1,j}\\\\\n",
    "\\forall j \\in \\mathcal{J}, \\quad \\sum_{i=1}^{\\Vert \\mathcal{I} \\Vert}\\lambda_{i,j}<=2\n",
    "$$"
   ]
  },
  {
   "cell_type": "markdown",
   "metadata": {},
   "source": [
    "<a id='constraints'></a>\n",
    "#### 2.4.7. One Event at A Time\n",
    "\n",
    "The students is either doing an event at a certain time or they are not,\n",
    "\n",
    "$$\n",
    "\\forall i \\in \\mathcal{I}, \\quad \\sum_{j=1}^{\\Vert \\mathcal{J} \\Vert} X_{i,j}=1\n",
    "$$"
   ]
  },
  {
   "cell_type": "markdown",
   "metadata": {},
   "source": [
    "<a id='constraints'></a>\n",
    "#### 2.4.8. Introduce z\n",
    "\n",
    "If z_j is 1, then the students did event i, where M is the upper bound.\n",
    "\n",
    "$$\n",
    "z_{j}\\in \\{0,1\\}\\\\\n",
    "\\forall j, \\quad \\sum_{i=1}^{\\Vert \\mathcal{I} \\Vert}X_{i,j}\\leq Mz_j\n",
    "$$"
   ]
  },
  {
   "cell_type": "markdown",
   "metadata": {},
   "source": [
    "### 2.5. Objective Function"
   ]
  },
  {
   "cell_type": "markdown",
   "metadata": {},
   "source": [
    "#### 2.5.1. Student Satisfaction\n",
    "\n",
    "Maximizing the total amount of “satisfaction” of the group,\n",
    "$$\\max \\quad \\sum_{k=1}^{\\Vert \\mathcal{K} \\Vert}\\sum_{i=1}^{\\Vert \\mathcal{I} \\Vert}\\sum_{j=1}^{\\Vert \\mathcal{J} \\Vert}s_{i,j}X_{i,j} $$"
   ]
  },
  {
   "cell_type": "markdown",
   "metadata": {},
   "source": [
    "#### 2.5.2. Total Cost\n",
    "\n",
    "Minimizing the total planning cost \n",
    "\n",
    "$$\\min \\sum_{j=1}^{\\Vert \\mathcal{J} \\Vert}z_{j}C_{j} $$"
   ]
  },
  {
   "cell_type": "markdown",
   "metadata": {},
   "source": [
    "#### 2.5.3. Combing both costs\n",
    "\n",
    "\n",
    "$$\\max \\quad \\sum_{k=1}^{\\Vert \\mathcal{K} \\Vert}\\sum_{i=1}^{\\Vert \\mathcal{I} \\Vert}\\sum_{j=1}^{\\Vert \\mathcal{J} \\Vert}s_{i,j}X_{i,j}  -  \\lambda\\sum_{j=1}^{\\Vert \\mathcal{J} \\Vert}z_{j}C_{j} $$"
   ]
  },
  {
   "cell_type": "markdown",
   "metadata": {},
   "source": [
    "## 3. Julia Implementation"
   ]
  },
  {
   "cell_type": "code",
   "execution_count": 10,
   "metadata": {},
   "outputs": [],
   "source": [
    "using JuMP\n",
    "using Cbc\n",
    "using CSV\n",
    "using DataFrames"
   ]
  },
  {
   "cell_type": "code",
   "execution_count": 40,
   "metadata": {},
   "outputs": [],
   "source": [
    "function read_csv(filename)\n",
    "    raw = CSV.read(filename, DataFrame)\n",
    "    (rows, cols) = size(raw)\n",
    "    raw = raw[1:rows, 2:cols]\n",
    "    data = Matrix(raw)\n",
    "    #data = convert(Matrix{Float64}, raw)\n",
    "    return data\n",
    "end\n",
    "\n",
    "budget = 500000\n",
    "num_students = 2\n",
    "min_satisfaction = 1\n",
    "cost_per_worker = 0.5\n",
    "\n",
    "\n",
    "survey_data = read_csv(\"survey_data.csv\")\n",
    "hours_open = read_csv(\"hours_open.csv\") # 0 is open. 1 is closed.\n",
    "time_limits = read_csv(\"time_limits.csv\") # duration of each event. #hours\n",
    "workers_needed = read_csv(\"workers_needed.csv\")\n",
    "workers_available = read_csv(\"workers_available.csv\")\n",
    "events = Matrix(CSV.read(\"events.csv\",DataFrame, header=0))\n",
    "events = rstrip.(events)\n",
    "times = Matrix(CSV.read(\"times.csv\",DataFrame,delim=\",\", header=0))\n",
    "times = rstrip.(times)\n",
    "\n",
    "\n",
    "# manditory_lunch_time = [5; 29]\n",
    "# lunch_indices = [18; 19; 20] # lunch indices in events.csv\n",
    "(num_hours, num_events) = size(hours_open)"
   ]
  },
  {
   "cell_type": "code",
   "execution_count": 41,
   "metadata": {},
   "outputs": [
    {
     "name": "stdout",
     "output_type": "stream",
     "text": [
      "OPTIMAL\n",
      "8 AM Saturday:\tCurrent Student Panel\n",
      "9 AM Saturday:\tCurrent Student Panel\n",
      "10 AM Saturday:\tAcademic Advising\n",
      "11 AM Saturday:\tAcademic Advising\n",
      "12 PM Saturday:\tToppers Lunch\n",
      "1 PM Saturday:\tAcademic Advising\n",
      "2 PM Saturday:\tAcademic Advising\n",
      "3 PM Saturday:\tAcademic Advising\n",
      "4 PM Saturday:\tCurrent Student Panel\n",
      "5 PM Saturday:\tCurrent Student Panel\n",
      "6 PM Saturday:\tCurrent Student Panel\n",
      "8 AM Sunday:\tCurrent Student Panel\n",
      "9 AM Sunday:\tCurrent Student Panel\n",
      "10 AM Sunday:\tAcademic Advising\n",
      "11 AM Sunday:\tAcademic Advising\n",
      "12 PM Sunday:\tToppers Lunch\n",
      "1 PM Sunday:\tAcademic Advising\n",
      "2 PM Sunday:\tAcademic Advising\n",
      "3 PM Sunday:\tAcademic Advising\n",
      "4 PM Sunday:\tCurrent Student Panel\n",
      "5 PM Sunday:\tCurrent Student Panel\n",
      "6 PM Sunday:\tCurrent Student Panel\n"
     ]
    },
    {
     "data": {
      "text/plain": [
       "352.0"
      ]
     },
     "execution_count": 41,
     "metadata": {},
     "output_type": "execute_result"
    }
   ],
   "source": [
    "m = Model(with_optimizer(Cbc.Optimizer, logLevel=0))\n",
    "\n",
    "\n",
    "@variable(m, x[1:num_hours,1:num_events], Bin)\n",
    "@variable(m, lambda[1:num_hours,1:num_events] >= 0)\n",
    "@variable(m, z[1:num_events], Bin)\n",
    "\n",
    "\n",
    "# # The group is either doing an event at a certain time or they're not\n",
    "@constraint(m, [i=1:num_hours, j=1:num_events], x[i,j] <= 1)\n",
    "\n",
    "# z[j] is 1 if the group did an event j during their orientation\n",
    "@constraint(m, [j=1:num_events], sum(x[i,j] for i in 1:num_hours) <= num_hours*z[j])\n",
    "\n",
    "# The group can only do one event at a time\n",
    "@constraint(m, [i=1:num_hours], sum(x[i,j] for j in 1:num_events) == 1)\n",
    "\n",
    "# The group cannot do an event for an unlimited amount of time\n",
    "# @constraint(m, [j=1:num_events], sum(x[i,j] for i in 1:num_hours) == time_limits[j])\n",
    "\n",
    "# The total cost of the orientation week is less than the total budget\n",
    "# @constraint(m,  sum(z[j]*cost_per_worker*workers_needed[j] for j in 1:num_events) <= budget)\n",
    "\n",
    "# Each person in the group must get some baseline of sastisfaction\n",
    "@constraint(m, [p=1:num_students], sum(sum(survey_data[p,j]*x[i,j] for i in 1:num_hours) for j in 1:num_events) >= min_satisfaction)\n",
    "\n",
    "# The group can only do an event if it is open\n",
    "@constraint(m, [j=1:num_events], sum(hours_open[i,j]*x[i,j] for i in 1:num_hours) == 0)\n",
    "\n",
    "\n",
    "\n",
    "# The group can only do an event once\n",
    "# lambda 1 one when the group starts or stops an event\n",
    "# for j in 1:num_events\n",
    "\n",
    "#     for i in 2:num_hours\n",
    "#         @constraint(m, lambda[i,j] >= x[i,j] - x[i-1,j])\n",
    "#         @constraint(m, lambda[i,j] >= -x[i,j] + x[i-1,j])\n",
    "#     end\n",
    "# end\n",
    "# @constraint(m, [j=1:num_events], sum(lambda[i,j] for i in 1:num_hours) <= 2)\n",
    "\n",
    "# Our objective is to maximize satisfaction!\n",
    "@objective(m, Max, sum(sum(sum(survey_data[p,j]*x[i,j] for p in 1:num_students) for i in 1:num_hours) for j in 1:num_events))\n",
    "optimize!(m)\n",
    "\n",
    "println(termination_status(m))\n",
    "x_values = value.(x)\n",
    "\n",
    "for i in 1:num_hours\n",
    "    print(times[i], \":\\t\")\n",
    "    for j in 1:num_events\n",
    "        if round(x_values[i,j]) == 1\n",
    "            println(events[j])\n",
    "            break\n",
    "        end\n",
    "    end\n",
    "end\n",
    "\n",
    "satisfaction = sum(sum(sum(survey_data[p,j]*value(x[i,j]) for p in 1:num_students) for i in 1:num_hours) for j in 1:num_events)\n",
    "#cost = sum(value(z[j]*cost_per_worker*workers_needed[j] for j in 1:num_events))\n",
    "# println()\n",
    "# println(\"Total enjoyment: \", satisfaction)\n",
    "# println(\"Total cost: \",cost, \" dollars\")\n",
    "    \n"
   ]
  },
  {
   "cell_type": "markdown",
   "metadata": {},
   "source": [
    "## 4. Preliminary Analysis and next steps\n",
    "\n"
   ]
  },
  {
   "cell_type": "markdown",
   "metadata": {},
   "source": [
    "From our current results, we see that the optimizer wants to hold the same event over and over again, so we need to do some debugging to ensure each event can be held a maximum of 1 time.This result is also only optimizing satisfaction, so we still need to run the simulations for optimizing cost and a combination of both. One thing that we see being the toughest part for our eventual optimal solution is providing a constraint to make sure that there is enough time available over a time period to hold events that last more than 1 hour."
   ]
  },
  {
   "cell_type": "code",
   "execution_count": null,
   "metadata": {},
   "outputs": [],
   "source": []
  }
 ],
 "metadata": {
  "kernelspec": {
   "display_name": "Julia 1.4.1",
   "language": "julia",
   "name": "julia-1.4"
  },
  "language_info": {
   "file_extension": ".jl",
   "mimetype": "application/julia",
   "name": "julia",
   "version": "1.4.1"
  }
 },
 "nbformat": 4,
 "nbformat_minor": 5
}
